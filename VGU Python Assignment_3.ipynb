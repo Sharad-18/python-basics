{
 "cells": [
  {
   "cell_type": "markdown",
   "id": "2a8e9505",
   "metadata": {},
   "source": [
    "## Question 1.\tPython program to add two numbers\n",
    "\n"
   ]
  },
  {
   "cell_type": "code",
   "execution_count": null,
   "id": "94db056f",
   "metadata": {},
   "outputs": [],
   "source": [
    "a=5\n",
    "b=6\n",
    "print(a+b)"
   ]
  },
  {
   "cell_type": "markdown",
   "id": "04f077a5",
   "metadata": {},
   "source": [
    "## Question 2.Maximum of two numbers in Python\n"
   ]
  },
  {
   "cell_type": "code",
   "execution_count": null,
   "id": "de8dcf82",
   "metadata": {},
   "outputs": [],
   "source": [
    "a=5\n",
    "b=8\n",
    "if a>b:\n",
    "    print(a,\"is maximum\")\n",
    "else:\n",
    "    print(b,\"is maximum\")"
   ]
  },
  {
   "cell_type": "markdown",
   "id": "1efa765f",
   "metadata": {},
   "source": [
    "## Question 3.\tPython Program for factorial of a number\n"
   ]
  },
  {
   "cell_type": "code",
   "execution_count": null,
   "id": "053d1d5c",
   "metadata": {},
   "outputs": [],
   "source": [
    "a=int(input(\"enter any number\"))\n",
    "def factorial(a):\n",
    "    if a == 0:\n",
    "        return 1\n",
    "    else:\n",
    "        return a * factorial(a-1)\n",
    "factorial(a)\n",
    "    "
   ]
  },
  {
   "cell_type": "markdown",
   "id": "33404611",
   "metadata": {},
   "source": [
    "## 4.\tPython Program for simple interest\n"
   ]
  },
  {
   "cell_type": "code",
   "execution_count": null,
   "id": "2594116c",
   "metadata": {},
   "outputs": [],
   "source": [
    "def simple_interest(principal, rate, time):\n",
    "    interest = (principal * rate * time) / 100\n",
    "    return interest\n",
    "\n",
    "\n",
    "p = 1000   \n",
    "r = 5        \n",
    "t = 2       \n",
    "si = simple_interest(p, r, t)\n",
    "print(f\"The simple interest on a principal amount of {p} at a rate of {r}% for {t} years is {si}\")\n"
   ]
  },
  {
   "cell_type": "markdown",
   "id": "d34f4a13",
   "metadata": {},
   "source": [
    "## 5.\tPython Program for compound interest\n"
   ]
  },
  {
   "cell_type": "code",
   "execution_count": null,
   "id": "dcb67c1a",
   "metadata": {},
   "outputs": [],
   "source": [
    "def compound_interest(principal, rate, time, n):\n",
    "    amount = principal * (1 + (rate / (n * 100))) ** (n * time)\n",
    "    interest = amount - principal\n",
    "    return interest\n",
    "p = 1000     \n",
    "r = 6      \n",
    "t = 2.5      \n",
    "n = 12      \n",
    "ci = compound_interest(p, r, t, n)\n",
    "print(f\"The compound interest on a principal amount of {p} at a rate of {r}% for {t} years compounded {n} times per year is {ci}\")\n"
   ]
  },
  {
   "cell_type": "markdown",
   "id": "f5bc28d2",
   "metadata": {},
   "source": [
    "## 6.\tPython Program to check Armstrong Number\n"
   ]
  },
  {
   "cell_type": "code",
   "execution_count": 13,
   "id": "c75e2e08",
   "metadata": {},
   "outputs": [
    {
     "name": "stdout",
     "output_type": "stream",
     "text": [
      "enter any num 407\n",
      "yes 407  is ArmStrong Number\n"
     ]
    }
   ],
   "source": [
    "n=int(input(\"enter any num \"))\n",
    "b=0\n",
    "temp=n\n",
    "while temp>0:\n",
    "    c=temp%10\n",
    "    b += c**3\n",
    "    temp//=10\n",
    "if n==b:\n",
    "    print(\"yes\",n,\" is ArmStrong Number\")\n",
    "else:\n",
    "    print(\"no\",n,\"  is not ArmStrong Number\")\n",
    "\n",
    "        \n",
    "        "
   ]
  },
  {
   "cell_type": "markdown",
   "id": "d30c6f3c",
   "metadata": {},
   "source": [
    "## 7.\tPython Program for Program to find area of a circle\n"
   ]
  },
  {
   "cell_type": "code",
   "execution_count": 1,
   "id": "76c4ed03",
   "metadata": {},
   "outputs": [
    {
     "name": "stdout",
     "output_type": "stream",
     "text": [
      "enter the radius of the circke12\n",
      "452.16 is the area of the circle\n"
     ]
    }
   ],
   "source": [
    "radius=int(input(\"enter the radius of the circke\"))\n",
    "area=3.14*(radius**2)\n",
    "print(area,\"is the area of the circle\")"
   ]
  },
  {
   "cell_type": "markdown",
   "id": "1a8ead25",
   "metadata": {},
   "source": [
    "## 8.\tPython program to print all Prime numbers in an Interval\n"
   ]
  },
  {
   "cell_type": "code",
   "execution_count": 15,
   "id": "74e2ff11",
   "metadata": {},
   "outputs": [
    {
     "name": "stdout",
     "output_type": "stream",
     "text": [
      "enter the first nom 10\n",
      "enter the second nom 50\n",
      "Prime numbers between 10 and 50 are: [11, 13, 17, 19, 23, 29, 31, 37, 41, 43, 47]\n"
     ]
    }
   ],
   "source": [
    "\n",
    "\n",
    "def is_prime(n):\n",
    "    if n <= 1:\n",
    "        return False\n",
    "    for i in range(2, int(n**0.5) + 1):\n",
    "        if n % i == 0:\n",
    "            return False\n",
    "    return True\n",
    "\n",
    "\n",
    "def print_primes(start, end):\n",
    "    primes = [num for num in range(start, end + 1) if is_prime(num)]\n",
    "    print(f\"Prime numbers between {start} and {end} are: {primes}\")\n",
    "\n",
    "n1=int(input(\"enter the first nom \"))\n",
    "n2=int(input(\"enter the second nom \"))\n",
    "print_primes(n1, n2)\n"
   ]
  },
  {
   "cell_type": "markdown",
   "id": "c50e2117",
   "metadata": {},
   "source": [
    "## 9.\tPython program to check whether a number is Prime or not\n"
   ]
  },
  {
   "cell_type": "code",
   "execution_count": 23,
   "id": "8d36a3e1",
   "metadata": {},
   "outputs": [
    {
     "name": "stdout",
     "output_type": "stream",
     "text": [
      "enter the first nom 6\n"
     ]
    },
    {
     "data": {
      "text/plain": [
       "'It is not Prime Number'"
      ]
     },
     "execution_count": 23,
     "metadata": {},
     "output_type": "execute_result"
    }
   ],
   "source": [
    "def is_prime(n):\n",
    "    if n <= 1:\n",
    "        return False\n",
    "    for i in range(2, int(n**0.5) + 1):\n",
    "        if n % i == 0:\n",
    "            return \"It is not Prime Number\"\n",
    "    return \" Yes It is Prime Number\"\n",
    "n1=int(input(\"enter the first nom \"))\n",
    "is_prime(n1)"
   ]
  },
  {
   "cell_type": "markdown",
   "id": "b9af7e39",
   "metadata": {},
   "source": [
    "## 10.\tPython Program for n-th Fibonacci number\n"
   ]
  },
  {
   "cell_type": "code",
   "execution_count": 35,
   "id": "a9090f85",
   "metadata": {},
   "outputs": [
    {
     "name": "stdout",
     "output_type": "stream",
     "text": [
      "Enter any Nom 10\n",
      "Fibonacci sequence:\n",
      "0\n",
      "1\n",
      "1\n",
      "2\n",
      "3\n",
      "5\n",
      "8\n",
      "13\n",
      "21\n",
      "34\n"
     ]
    }
   ],
   "source": [
    "nth = int(input(\"Enter any Nom \"))\n",
    "n1, n2 = 0, 1\n",
    "count = 0\n",
    "if nterms <= 0:\n",
    "   print(0)\n",
    "elif nterms == 1:\n",
    "   print(\"Fibonacci sequence upto\",nth,\":\")\n",
    "   print(n1)\n",
    "\n",
    "else:\n",
    "   print(\"Fibonacci sequence:\")\n",
    "   while count < nth:\n",
    "       print(n1)\n",
    "       nth1 = n1 + n2\n",
    "       n1 = n2\n",
    "       n2 = nth1\n",
    "       count += 1"
   ]
  },
  {
   "cell_type": "markdown",
   "id": "d5f9d672",
   "metadata": {},
   "source": [
    "## 11.\tPython Program for How to check if a given number is Fibonacci number?\n"
   ]
  },
  {
   "cell_type": "code",
   "execution_count": 36,
   "id": "357a8c96",
   "metadata": {},
   "outputs": [
    {
     "name": "stdout",
     "output_type": "stream",
     "text": [
      "8 is a Fibonacci number\n"
     ]
    }
   ],
   "source": [
    "import math\n",
    "\n",
    "def is_perfect_square(n):\n",
    "    s = int(math.sqrt(n))\n",
    "    return s * s == n\n",
    "\n",
    "def is_fibonacci(n):\n",
    "    return is_perfect_square(5*n*n + 4) or is_perfect_square(5*n*n - 4)\n",
    "n = 8\n",
    "if is_fibonacci(n):\n",
    "    print(n, \"is a Fibonacci number\")\n",
    "else:\n",
    "    print(n, \"is not a Fibonacci number\")\n"
   ]
  },
  {
   "cell_type": "markdown",
   "id": "c4673598",
   "metadata": {},
   "source": [
    "## 12.\tPython Program for n\\’th multiple of a number in Fibonacci Series\n"
   ]
  },
  {
   "cell_type": "code",
   "execution_count": null,
   "id": "4d7960f0",
   "metadata": {},
   "outputs": [],
   "source": [
    "\n"
   ]
  },
  {
   "cell_type": "markdown",
   "id": "118bb78a",
   "metadata": {},
   "source": [
    "## 13.\tProgram to print ASCII Value of a character\n"
   ]
  },
  {
   "cell_type": "code",
   "execution_count": 37,
   "id": "d8d0a89b",
   "metadata": {},
   "outputs": [
    {
     "name": "stdout",
     "output_type": "stream",
     "text": [
      "Enter a character: a\n",
      "The ASCII value of a is 97\n"
     ]
    }
   ],
   "source": [
    "char = input(\"Enter a character: \")\n",
    "ascii_value = ord(char)\n",
    "print(f\"The ASCII value of {char} is {ascii_value}\")\n"
   ]
  },
  {
   "cell_type": "markdown",
   "id": "f9780302",
   "metadata": {},
   "source": [
    "## 14.\tPython Program for Sum of squares of first n natural numbers\n"
   ]
  },
  {
   "cell_type": "code",
   "execution_count": 39,
   "id": "0ea949d1",
   "metadata": {},
   "outputs": [
    {
     "name": "stdout",
     "output_type": "stream",
     "text": [
      "Enter a num: 10\n",
      "The sum of squares of the first 10 natural numbers is 385\n"
     ]
    }
   ],
   "source": [
    "n = int(input(\"Enter a num: \"))\n",
    "sum_of_squares = 0\n",
    "\n",
    "for i in range(1, n+1):\n",
    "    sum_of_squares += i*i\n",
    "\n",
    "print(f\"The sum of squares of the first {n} natural numbers is {sum_of_squares}\")\n"
   ]
  },
  {
   "cell_type": "markdown",
   "id": "9b61fe88",
   "metadata": {},
   "source": [
    "## 15.\tPython Program for cube sum of first n natural numbers"
   ]
  },
  {
   "cell_type": "code",
   "execution_count": 40,
   "id": "47eb1556",
   "metadata": {},
   "outputs": [
    {
     "name": "stdout",
     "output_type": "stream",
     "text": [
      "Enter a num: 10\n",
      "The sum of cubes of the first 10 natural numbers is 3025\n"
     ]
    }
   ],
   "source": [
    "n = int(input(\"Enter a num: \"))\n",
    "sum_of_cubes = 0\n",
    "\n",
    "for i in range(1, n+1):\n",
    "    sum_of_cubes += i*i*i\n",
    "\n",
    "print(f\"The sum of cubes of the first {n} natural numbers is {sum_of_cubes}\")\n"
   ]
  },
  {
   "cell_type": "code",
   "execution_count": null,
   "id": "814babad",
   "metadata": {},
   "outputs": [],
   "source": []
  }
 ],
 "metadata": {
  "kernelspec": {
   "display_name": "Python 3 (ipykernel)",
   "language": "python",
   "name": "python3"
  },
  "language_info": {
   "codemirror_mode": {
    "name": "ipython",
    "version": 3
   },
   "file_extension": ".py",
   "mimetype": "text/x-python",
   "name": "python",
   "nbconvert_exporter": "python",
   "pygments_lexer": "ipython3",
   "version": "3.9.12"
  }
 },
 "nbformat": 4,
 "nbformat_minor": 5
}
