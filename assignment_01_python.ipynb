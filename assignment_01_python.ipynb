{
 "cells": [
  {
   "cell_type": "raw",
   "id": "69e31952",
   "metadata": {},
   "source": [
    "1.In the below elements which of them are values or an expression? eg:- values can be integer or\n",
    "string and expressions will be mathematical operators.\n",
    "*\n",
    "‘VGU’\n",
    "-89.5\n",
    "-\n",
    "/\n",
    "+\n",
    "6"
   ]
  },
  {
   "cell_type": "markdown",
   "id": "9facb9e2",
   "metadata": {},
   "source": [
    "values are 'VGU',-89.5,6 and\n",
    "expressions are *,-,/,+"
   ]
  },
  {
   "cell_type": "raw",
   "id": "eccb8410",
   "metadata": {},
   "source": [
    "2.What is the difference between string and variable?"
   ]
  },
  {
   "cell_type": "markdown",
   "id": "e1f75945",
   "metadata": {},
   "source": [
    "A Variable is a store of information, and a String is a type of information you would store in a Variable. A String is usually words, enclosed with \"\" Eg String x =\"Welcome to SoloLearn\" X is the Variable, and we declared it as a String, use the single = to assign the text to it."
   ]
  },
  {
   "cell_type": "raw",
   "id": "244fb2ce",
   "metadata": {},
   "source": [
    "3. Describe three different data types"
   ]
  },
  {
   "cell_type": "markdown",
   "id": "1cd1ea07",
   "metadata": {},
   "source": [
    "1.Integer (int): This data type is used to represent whole numbers (positive, negative, or zero) without any fractional part. For example, 3, -7, and 0 are all integers in Python.\n",
    "\n",
    "2.Float (float): This data type is used to represent numbers with a decimal point. For example, 3.14, -2.5, and 0.0 are all floats in Python.\n",
    "\n",
    "3.String (str): This data type is used to represent a sequence of characters. Strings are enclosed in either single quotes ('...') or double quotes (\"...\"). For example, 'hello', \"world\", and \"Python\" are all strings in Python."
   ]
  },
  {
   "cell_type": "raw",
   "id": "4940acd9",
   "metadata": {},
   "source": [
    "4. What is an expression made up of? What do all expressions do?"
   ]
  },
  {
   "cell_type": "markdown",
   "id": "514d45b4",
   "metadata": {},
   "source": [
    "In python Expression is the combo of values, variables, operators, and function calls that evaluate to a single value.<br>\n",
    "All expressions in Python have the same fundamental purpose: to evaluate to a single value.<br> \n",
    "Expressions can be as simple as a single variable or as complex as a multi-line statement involving multiple operators <br>\n",
    "and function calls.<br>\n",
    "example:<br>\n",
    "    x = 5                       # This is an expression that sets the value of x to 5.<br>\n",
    "    y = x + 2                   # This is an expression that adds 2 to the value of x and assigns the result to y.<br>\n",
    "    z = \"Hello \" + \"world!\"     # This is an expression that concatenates two strings and assigns the result to z.<br>\n",
    "    result = (x + y) * z.count('l')   # This is a more complex expression that involves multiple operators and function calls.\n"
   ]
  },
  {
   "cell_type": "raw",
   "id": "dc7369bf",
   "metadata": {},
   "source": [
    "5.This assignment statements, like spam = 10. What is the difference between an expression and a\n",
    "statement?"
   ]
  },
  {
   "cell_type": "markdown",
   "id": "43d0ff0d",
   "metadata": {},
   "source": [
    "Expression-:An expression is a combination of values, variables, operators, and function calls that evaluates to a single value. \n",
    "Expressions can be used in assignments to set the value of a variable, in function calls as arguments, or as conditions \n",
    "in control structures like if statements and loops. Expressions always return a value, and they can be used as part of a \n",
    "larger expression or statement. \n",
    "For example, '5 + 10' is an expression that evaluates to 15.\n",
    "\n",
    "Statement-:A statement, on the other hand, is a unit of code that performs a specific action, such as assigning a value to a variable, calling a function, or looping over a sequence. Statements do not return a value, but they can have side effects, such as modifying the state of the program or printing output to the console. The assignment statement 'spam = 10' is an example of a statement that sets the value of the variable 'spam' to 10."
   ]
  },
  {
   "cell_type": "raw",
   "id": "94a26dd2",
   "metadata": {},
   "source": [
    "6.After running the following code, what does the variable bacon contain?\n",
    "bacon = 22\n",
    "bacon + 1"
   ]
  },
  {
   "cell_type": "markdown",
   "id": "9da70a49",
   "metadata": {},
   "source": [
    "The variable bacon will still contain the value 22. This is because the expression bacon + 1 evaluates to 23, \n",
    "but the result of the expression is not assigned to any variable.\n",
    "\n"
   ]
  },
  {
   "cell_type": "raw",
   "id": "49f9db73",
   "metadata": {},
   "source": [
    "7.What should the values of the following two terms be?\n",
    "\n",
    "'spam' + 'spamspam'\n",
    "'spam' * 3"
   ]
  },
  {
   "cell_type": "markdown",
   "id": "8ffa667a",
   "metadata": {},
   "source": [
    "'spam' + 'spamspam' - This expression concatenates two strings 'spam' and 'spamspam' using the + operator, resulting in a new string 'spamspamspam'.\n",
    "\n",
    "'spam' * 3 - This expression multiplies the string 'spam' by the integer 3 using the * operator, resulting in a new string 'spamspamspam'.\n",
    "\n",
    "So, both expressions produce the same result, which is the string 'spamspamspam'"
   ]
  },
  {
   "cell_type": "raw",
   "id": "6163c075",
   "metadata": {},
   "source": [
    "8.Why dorito is a valid variable name while 78 is invalid?"
   ]
  },
  {
   "cell_type": "markdown",
   "id": "3a8288a1",
   "metadata": {},
   "source": [
    "Rules of taking Variable:\n",
    "Variable names can contain letters (a-z, A-Z), digits (0-9), and underscores (_).\n",
    "Variable names cannot start with a digit, so 78 is an invalid variable name.\n",
    "Variable names should not use reserved keywords or function names, such as print, if, else, while, etc\n",
    "\n",
    "Based on these rules dorito is valid variable and 78 is invalid variable."
   ]
  },
  {
   "cell_type": "raw",
   "id": "9ca98a2b",
   "metadata": {},
   "source": [
    "9.What three functions can be used to get the integer, floating-point number, or string version of a\n",
    "value?"
   ]
  },
  {
   "cell_type": "markdown",
   "id": "57304e46",
   "metadata": {},
   "source": [
    "1.int<br>\n",
    "2.float<br>\n",
    "3.str"
   ]
  },
  {
   "cell_type": "raw",
   "id": "5ef118ac",
   "metadata": {},
   "source": [
    "10.Why does this expression cause an error? How can you fix it?\n",
    "'I have eaten ' + 99 + ' burritos.'"
   ]
  },
  {
   "cell_type": "markdown",
   "id": "2b609517",
   "metadata": {},
   "source": [
    "This expression will show error because integer can't be added directly to the string if you want to do for this you should<br>\n",
    "change integer to string by using '' or str like this-:<br>\n",
    "    'I have eaten ' + '99' + ' burritos.'"
   ]
  },
  {
   "cell_type": "raw",
   "id": "65ea87b8",
   "metadata": {},
   "source": [
    "Write code that prints Hello if 1 is stored in spam, prints Howdy if 2 is stored in spam, and prints\n",
    "Greetings! if anything else is stored in spam."
   ]
  },
  {
   "cell_type": "markdown",
   "id": "2d2bc9d9",
   "metadata": {},
   "source": [
    "```{python}\n",
    "if spam == 1:\n",
    "    print(\"Hello\")\n",
    "elif spam == 2:\n",
    "    print(\"Howdy\")\n",
    "else:\n",
    "    print(\"Greetings!\")\n",
    "\n",
    "```"
   ]
  },
  {
   "cell_type": "raw",
   "id": "3c85174e",
   "metadata": {},
   "source": [
    "12. If your programme is stuck in an endless loop, what keys you’ll press?"
   ]
  },
  {
   "cell_type": "markdown",
   "id": "6f4a7a9d",
   "metadata": {},
   "source": [
    "If your program is stuck in an endless loop and you need to stop it, you can press \"CTRL + C\" (i.e., the control key and the <br>letter \"C\" key) on your keyboard. This is known as a \"Keyboard Interrupt\" and it sends a signal to your program telling it<br> to stop executing."
   ]
  },
  {
   "cell_type": "raw",
   "id": "f4a43eb1",
   "metadata": {},
   "source": [
    " 13. How can you tell the difference between break and continue?"
   ]
  },
  {
   "cell_type": "markdown",
   "id": "6e298455",
   "metadata": {},
   "source": [
    "1.\"break\" is used to exit out of a loop completely and continue executing the program after the loop.<br>\n",
    "2.\"continue\" is used to skip the current iteration of a loop and move on to the next iteration."
   ]
  },
  {
   "cell_type": "raw",
   "id": "43c0c861",
   "metadata": {},
   "source": [
    "14. In a for loop, what is the difference between range(10), range(0, 10), and range(0, 10, 1)?"
   ]
  },
  {
   "cell_type": "markdown",
   "id": "5b09c65f",
   "metadata": {},
   "source": [
    "1. range(10) generates a sequence of numbers from 0 up to (but not including) 10. This is equivalent to range(0, 10, 1),<br>\n",
    "   which explicitly sets the start value to 0 and the step value to 1.<br>\n",
    "2. range(0, 10) generates a sequence of numbers from 0 up to (but not including) 10, using an implicit step value of 1.<br>\n",
    "3. range(0, 10, 1) generates a sequence of numbers from 0 up to (but not including) 10, using an explicit step value of 1.<br>"
   ]
  },
  {
   "cell_type": "raw",
   "id": "08b14472",
   "metadata": {},
   "source": [
    "15. Write a short program that prints the numbers 1 to 10 using a for loop. Then write an equivalent\n",
    "program that prints the numbers 1 to 10 using a while loop.\n"
   ]
  },
  {
   "cell_type": "markdown",
   "id": "261e418b",
   "metadata": {},
   "source": [
    "```{python}\n",
    "for i in range(1, 11):\n",
    "    print(i)\n",
    "\n",
    "```"
   ]
  },
  {
   "cell_type": "raw",
   "id": "7c0d779b",
   "metadata": {},
   "source": [
    " 16. If you had a function named bacon() inside a module named spam, how would you call it after\n",
    "importing spam? What statement creates a function?"
   ]
  },
  {
   "cell_type": "markdown",
   "id": "c7e6cf3f",
   "metadata": {},
   "source": [
    "### To call function From module spam\n",
    "```{python}\n",
    "# import the spam module\n",
    "import spam\n",
    "\n",
    "# call the bacon() function from the spam module\n",
    "spam.bacon()\n",
    "```\n",
    "### Statement of create funtion\n",
    "```{python}\n",
    "def add_numbers(x, y):\n",
    "    result = x + y\n",
    "    return result\n",
    "# call the add_numbers function\n",
    "result = add_numbers(3, 5)\n",
    "\n",
    "# print the result\n",
    "print(result)  # output: 8\n",
    "\n",
    "```"
   ]
  },
  {
   "cell_type": "raw",
   "id": "74656769",
   "metadata": {},
   "source": [
    "17. What is the difference between a function and a function call?"
   ]
  },
  {
   "cell_type": "markdown",
   "id": "906d43ee",
   "metadata": {},
   "source": [
    "A **function** is a block of code that performs a specific task. It is defined using the def statement, and it can take zero or more arguments as input and return zero or more values as output.\n",
    "\n",
    "On the other hand, a **function call** is the act of invoking or executing a function that has already been defined. When you call a function, you pass it any required arguments, and it returns a value (if it has a return statement).\n"
   ]
  },
  {
   "cell_type": "raw",
   "id": "df0c4e4c",
   "metadata": {},
   "source": [
    "18. How many global scopes are there in a Python program? How many local scopes?"
   ]
  },
  {
   "cell_type": "markdown",
   "id": "61aa673a",
   "metadata": {},
   "source": [
    "In Python, there is only one global scope in a program. Any variables defined outside of a function or class definition belong to the global scope.\n",
    "On the other hand, local scopes are created whenever a function is called. These scopes are used to store variables that are only accessible within the function. When a function is finished executing, its local scope is destroyed, and any variables defined within the scope are lost.<br>\n",
    "**There is only one global scope and any number of local scopes depending on how many functions are called.**"
   ]
  },
  {
   "cell_type": "raw",
   "id": "673eb59c",
   "metadata": {},
   "source": [
    "19. What happens to variables in a local scope when the function call returns?"
   ]
  },
  {
   "cell_type": "markdown",
   "id": "c4a1fa88",
   "metadata": {},
   "source": [
    "When a function call returns, the local scope is destroyed along with any variables that were defined within it. This means that any variable values stored in the local scope are lost and cannot be accessed outside of the function."
   ]
  },
  {
   "cell_type": "raw",
   "id": "9db33032",
   "metadata": {},
   "source": [
    "20. What is the concept of a return value? Is it possible to have a return value in an expression?"
   ]
  },
  {
   "cell_type": "markdown",
   "id": "d105896f",
   "metadata": {},
   "source": [
    "A return value is the value that a function returns after it has completed its execution. When a function is called, it can perform some operations and return a value back to the caller. The return statement is used to specify the value that the function will return.\n",
    "**Yes**, it is possible to have a return value in an expression. This means that you can use a function call as part of a larger expression and use the returned value in calculations or other operations.\n",
    "Example:\n",
    "```{python}\n",
    "def square(x):\n",
    "    return x ** 2\n",
    "\n",
    "result = square(5) + 10\n",
    "print(result)  # this will print 35\n",
    "\n",
    "```\n",
    "In this example, the square function returns the square of the input parameter x. The returned value is used in an expression that adds 10 to the square of 5, resulting in the value 35, which is stored in the result variable and then printed to the console"
   ]
  },
  {
   "cell_type": "raw",
   "id": "7741531c",
   "metadata": {},
   "source": [
    " 21. If a function does not have a return statement, what is the return value of a call to that function?"
   ]
  },
  {
   "cell_type": "markdown",
   "id": "98f601bf",
   "metadata": {},
   "source": [
    "If a function does not have a return statement, the return value of a call to that function will be **None**."
   ]
  },
  {
   "cell_type": "raw",
   "id": "5b1ddac0",
   "metadata": {},
   "source": [
    "22. How do you make a function variable refer to the global variable?"
   ]
  },
  {
   "cell_type": "markdown",
   "id": "bed7d648",
   "metadata": {},
   "source": [
    "```{python}\n",
    "x = 5  # global variable\n",
    "\n",
    "def print_x():\n",
    "    global x\n",
    "    print(x)\n",
    "\n",
    "print_x()  # this will print 5\n",
    "\n",
    "```\n",
    "In this example, the print_x function uses the global keyword to indicate that it wants to use the global variable x, rather than creating a new local variable with the same name. The function then prints the value of x to the console, which is 5. When the function is called, it accesses the global variable x and prints its value."
   ]
  },
  {
   "cell_type": "raw",
   "id": "fc673c87",
   "metadata": {},
   "source": [
    "23. What is the data type of None?"
   ]
  },
  {
   "cell_type": "markdown",
   "id": "63fd7859",
   "metadata": {},
   "source": [
    "The data type of None is NoneType, which is a special type in Python that has only one value: None."
   ]
  },
  {
   "cell_type": "raw",
   "id": "4a6c061a",
   "metadata": {},
   "source": [
    "24. What does the sentence import areallyourpetsnamederic do?"
   ]
  },
  {
   "cell_type": "markdown",
   "id": "38f6fbf9",
   "metadata": {},
   "source": [
    "The sentence import areallyourpetsnamederic is an import statement in Python, which attempts to import a module named areallyourpetsnamederic."
   ]
  },
  {
   "cell_type": "raw",
   "id": "5346fb92",
   "metadata": {},
   "source": [
    "25. If you had a bacon() feature in a spam module, what would you call it after importing spam?\n"
   ]
  },
  {
   "cell_type": "markdown",
   "id": "a44702de",
   "metadata": {},
   "source": [
    "```{python}\n",
    "import spam\n",
    "spam.bacon()\n",
    "\n",
    "```"
   ]
  },
  {
   "cell_type": "raw",
   "id": "2fb61878",
   "metadata": {},
   "source": [
    " 26. What can you do to save a programme from crashing if it encounters an error?"
   ]
  },
  {
   "cell_type": "markdown",
   "id": "e6a3e630",
   "metadata": {},
   "source": [
    "To save a program from crashing if it encounters an error, you can use exception handling. In Python, you can use the try and except statements to catch and handle exceptions.\n",
    "Example-:\n",
    "```{python}\n",
    "try:\n",
    "    with open('read.text','r') as f:\n",
    "        print(f.read())\n",
    "except ExceptionType:\n",
    "    print(\"File does'nt Exist\")\n",
    "```"
   ]
  },
  {
   "cell_type": "raw",
   "id": "5979727b",
   "metadata": {},
   "source": [
    "27. What is the purpose of the try clause? What is the purpose of the except clause?"
   ]
  },
  {
   "cell_type": "markdown",
   "id": "8c73ed8c",
   "metadata": {},
   "source": [
    "The try and except clauses are used for exception handling in Python.<br>\n",
    "The **try** clause is used to enclose the code that might raise an exception<br>\n",
    "The **except** clause is used to handle the exception if one is raised.\n"
   ]
  },
  {
   "cell_type": "raw",
   "id": "c64cff49",
   "metadata": {},
   "source": [
    "28. What exactly is []?"
   ]
  },
  {
   "cell_type": "markdown",
   "id": "27367df9",
   "metadata": {},
   "source": [
    "In Python, [] is an empty list, which is a collection of values enclosed in square brackets and separated by commas. An empty list contains no elements."
   ]
  },
  {
   "cell_type": "raw",
   "id": "1cdd018c",
   "metadata": {},
   "source": [
    "29. In a list of values stored in a variable called spam, how would you assign the value 'hello' as the\n",
    "third value? (Assume [2, 4, 6, 8, 10] are in spam.)\n"
   ]
  },
  {
   "cell_type": "markdown",
   "id": "f9617865",
   "metadata": {},
   "source": [
    "```{python}\n",
    "spam = [2, 4, 6, 8, 10]\n",
    "spam[2] = 'hello'\n",
    "print(spam)  # Output: [2, 4, 'hello', 8, 10]\n",
    "\n",
    "```"
   ]
  },
  {
   "cell_type": "raw",
   "id": "effa7bab",
   "metadata": {},
   "source": [
    "30. Let's pretend the spam includes the list ['a', 'b', 'c', 'd'] for the next three queries."
   ]
  }
 ],
 "metadata": {
  "kernelspec": {
   "display_name": "Python 3 (ipykernel)",
   "language": "python",
   "name": "python3"
  },
  "language_info": {
   "codemirror_mode": {
    "name": "ipython",
    "version": 3
   },
   "file_extension": ".py",
   "mimetype": "text/x-python",
   "name": "python",
   "nbconvert_exporter": "python",
   "pygments_lexer": "ipython3",
   "version": "3.9.12"
  }
 },
 "nbformat": 4,
 "nbformat_minor": 5
}
